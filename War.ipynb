{
 "cells": [
  {
   "cell_type": "markdown",
   "id": "7132cc4d-78a6-4fb4-807e-b0a34efd931e",
   "metadata": {},
   "source": [
    "## Israel-Gaza War Project (From 7th October 2023, to 5th December 2024)\n",
    "### (Gaza and West Bank)\n",
    "##### - By: AL-Hassan Sarrar\n",
    "##### - Computer Scientist"
   ]
  },
  {
   "cell_type": "code",
   "execution_count": null,
   "id": "a2fca1dc-3ef1-40d9-9253-4109bb81e1d6",
   "metadata": {},
   "outputs": [],
   "source": [
    "import pandas as pd\n",
    "import matplotlib.pyplot as plt \n",
    "\n",
    "df = pd.read_csv('War.csv')"
   ]
  },
  {
   "cell_type": "markdown",
   "id": "c108f2a2",
   "metadata": {},
   "source": [
    "### Sample data (before data engineering process)"
   ]
  },
  {
   "cell_type": "code",
   "execution_count": 2,
   "id": "b8bc48ca",
   "metadata": {},
   "outputs": [
    {
     "data": {
      "text/html": [
       "<div>\n",
       "<style scoped>\n",
       "    .dataframe tbody tr th:only-of-type {\n",
       "        vertical-align: middle;\n",
       "    }\n",
       "\n",
       "    .dataframe tbody tr th {\n",
       "        vertical-align: top;\n",
       "    }\n",
       "\n",
       "    .dataframe thead th {\n",
       "        text-align: right;\n",
       "    }\n",
       "</style>\n",
       "<table border=\"1\" class=\"dataframe\">\n",
       "  <thead>\n",
       "    <tr style=\"text-align: right;\">\n",
       "      <th></th>\n",
       "      <th>report_date</th>\n",
       "      <th>report_source</th>\n",
       "      <th>report_period</th>\n",
       "      <th>massacres_cum</th>\n",
       "      <th>ext_massacres_cum</th>\n",
       "      <th>killed</th>\n",
       "      <th>killed_cum</th>\n",
       "      <th>killed_children_cum</th>\n",
       "      <th>killed_women_cum</th>\n",
       "      <th>ext_killed</th>\n",
       "      <th>...</th>\n",
       "      <th>injured</th>\n",
       "      <th>injured_cum</th>\n",
       "      <th>ext_injured</th>\n",
       "      <th>ext_injured_cum</th>\n",
       "      <th>civdef_killed_cum</th>\n",
       "      <th>ext_civdef_killed_cum</th>\n",
       "      <th>med_killed_cum</th>\n",
       "      <th>ext_med_killed_cum</th>\n",
       "      <th>press_killed_cum</th>\n",
       "      <th>ext_press_killed_cum</th>\n",
       "    </tr>\n",
       "  </thead>\n",
       "  <tbody>\n",
       "    <tr>\n",
       "      <th>0</th>\n",
       "      <td>2023-10-07</td>\n",
       "      <td>mohtel</td>\n",
       "      <td>24</td>\n",
       "      <td>NaN</td>\n",
       "      <td>0</td>\n",
       "      <td>232.0</td>\n",
       "      <td>232.0</td>\n",
       "      <td>NaN</td>\n",
       "      <td>NaN</td>\n",
       "      <td>232</td>\n",
       "      <td>...</td>\n",
       "      <td>NaN</td>\n",
       "      <td>1610.0</td>\n",
       "      <td>1610</td>\n",
       "      <td>1610</td>\n",
       "      <td>NaN</td>\n",
       "      <td>0</td>\n",
       "      <td>6.0</td>\n",
       "      <td>6</td>\n",
       "      <td>1.0</td>\n",
       "      <td>1</td>\n",
       "    </tr>\n",
       "    <tr>\n",
       "      <th>1</th>\n",
       "      <td>2023-10-08</td>\n",
       "      <td>mohtel</td>\n",
       "      <td>24</td>\n",
       "      <td>NaN</td>\n",
       "      <td>0</td>\n",
       "      <td>138.0</td>\n",
       "      <td>370.0</td>\n",
       "      <td>78.0</td>\n",
       "      <td>41.0</td>\n",
       "      <td>138</td>\n",
       "      <td>...</td>\n",
       "      <td>NaN</td>\n",
       "      <td>1788.0</td>\n",
       "      <td>178</td>\n",
       "      <td>1788</td>\n",
       "      <td>NaN</td>\n",
       "      <td>0</td>\n",
       "      <td>NaN</td>\n",
       "      <td>6</td>\n",
       "      <td>1.0</td>\n",
       "      <td>1</td>\n",
       "    </tr>\n",
       "    <tr>\n",
       "      <th>2</th>\n",
       "      <td>2023-10-09</td>\n",
       "      <td>mohtel</td>\n",
       "      <td>24</td>\n",
       "      <td>NaN</td>\n",
       "      <td>8</td>\n",
       "      <td>190.0</td>\n",
       "      <td>560.0</td>\n",
       "      <td>91.0</td>\n",
       "      <td>61.0</td>\n",
       "      <td>190</td>\n",
       "      <td>...</td>\n",
       "      <td>NaN</td>\n",
       "      <td>2271.0</td>\n",
       "      <td>483</td>\n",
       "      <td>2271</td>\n",
       "      <td>NaN</td>\n",
       "      <td>0</td>\n",
       "      <td>6.0</td>\n",
       "      <td>6</td>\n",
       "      <td>3.0</td>\n",
       "      <td>3</td>\n",
       "    </tr>\n",
       "    <tr>\n",
       "      <th>3</th>\n",
       "      <td>2023-10-10</td>\n",
       "      <td>mohtel</td>\n",
       "      <td>24</td>\n",
       "      <td>NaN</td>\n",
       "      <td>8</td>\n",
       "      <td>340.0</td>\n",
       "      <td>900.0</td>\n",
       "      <td>260.0</td>\n",
       "      <td>230.0</td>\n",
       "      <td>340</td>\n",
       "      <td>...</td>\n",
       "      <td>NaN</td>\n",
       "      <td>4000.0</td>\n",
       "      <td>1729</td>\n",
       "      <td>4000</td>\n",
       "      <td>NaN</td>\n",
       "      <td>0</td>\n",
       "      <td>NaN</td>\n",
       "      <td>6</td>\n",
       "      <td>7.0</td>\n",
       "      <td>7</td>\n",
       "    </tr>\n",
       "    <tr>\n",
       "      <th>4</th>\n",
       "      <td>2023-10-11</td>\n",
       "      <td>gmotel</td>\n",
       "      <td>24</td>\n",
       "      <td>NaN</td>\n",
       "      <td>23</td>\n",
       "      <td>200.0</td>\n",
       "      <td>1100.0</td>\n",
       "      <td>NaN</td>\n",
       "      <td>NaN</td>\n",
       "      <td>200</td>\n",
       "      <td>...</td>\n",
       "      <td>1029.0</td>\n",
       "      <td>5184.0</td>\n",
       "      <td>1184</td>\n",
       "      <td>5184</td>\n",
       "      <td>NaN</td>\n",
       "      <td>0</td>\n",
       "      <td>10.0</td>\n",
       "      <td>10</td>\n",
       "      <td>NaN</td>\n",
       "      <td>7</td>\n",
       "    </tr>\n",
       "  </tbody>\n",
       "</table>\n",
       "<p>5 rows × 23 columns</p>\n",
       "</div>"
      ],
      "text/plain": [
       "  report_date report_source  report_period  massacres_cum  ext_massacres_cum  \\\n",
       "0  2023-10-07        mohtel             24            NaN                  0   \n",
       "1  2023-10-08        mohtel             24            NaN                  0   \n",
       "2  2023-10-09        mohtel             24            NaN                  8   \n",
       "3  2023-10-10        mohtel             24            NaN                  8   \n",
       "4  2023-10-11        gmotel             24            NaN                 23   \n",
       "\n",
       "   killed  killed_cum  killed_children_cum  killed_women_cum  ext_killed  ...  \\\n",
       "0   232.0       232.0                  NaN               NaN         232  ...   \n",
       "1   138.0       370.0                 78.0              41.0         138  ...   \n",
       "2   190.0       560.0                 91.0              61.0         190  ...   \n",
       "3   340.0       900.0                260.0             230.0         340  ...   \n",
       "4   200.0      1100.0                  NaN               NaN         200  ...   \n",
       "\n",
       "   injured  injured_cum  ext_injured  ext_injured_cum  civdef_killed_cum  \\\n",
       "0      NaN       1610.0         1610             1610                NaN   \n",
       "1      NaN       1788.0          178             1788                NaN   \n",
       "2      NaN       2271.0          483             2271                NaN   \n",
       "3      NaN       4000.0         1729             4000                NaN   \n",
       "4   1029.0       5184.0         1184             5184                NaN   \n",
       "\n",
       "   ext_civdef_killed_cum  med_killed_cum  ext_med_killed_cum  \\\n",
       "0                      0             6.0                   6   \n",
       "1                      0             NaN                   6   \n",
       "2                      0             6.0                   6   \n",
       "3                      0             NaN                   6   \n",
       "4                      0            10.0                  10   \n",
       "\n",
       "   press_killed_cum  ext_press_killed_cum  \n",
       "0               1.0                     1  \n",
       "1               1.0                     1  \n",
       "2               3.0                     3  \n",
       "3               7.0                     7  \n",
       "4               NaN                     7  \n",
       "\n",
       "[5 rows x 23 columns]"
      ]
     },
     "execution_count": 2,
     "metadata": {},
     "output_type": "execute_result"
    }
   ],
   "source": [
    "df.head()"
   ]
  },
  {
   "cell_type": "code",
   "execution_count": 3,
   "id": "13b3a723",
   "metadata": {},
   "outputs": [
    {
     "data": {
      "text/html": [
       "<div>\n",
       "<style scoped>\n",
       "    .dataframe tbody tr th:only-of-type {\n",
       "        vertical-align: middle;\n",
       "    }\n",
       "\n",
       "    .dataframe tbody tr th {\n",
       "        vertical-align: top;\n",
       "    }\n",
       "\n",
       "    .dataframe thead th {\n",
       "        text-align: right;\n",
       "    }\n",
       "</style>\n",
       "<table border=\"1\" class=\"dataframe\">\n",
       "  <thead>\n",
       "    <tr style=\"text-align: right;\">\n",
       "      <th></th>\n",
       "      <th>report_date</th>\n",
       "      <th>report_source</th>\n",
       "      <th>report_period</th>\n",
       "      <th>massacres_cum</th>\n",
       "      <th>ext_massacres_cum</th>\n",
       "      <th>killed</th>\n",
       "      <th>killed_cum</th>\n",
       "      <th>killed_children_cum</th>\n",
       "      <th>killed_women_cum</th>\n",
       "      <th>ext_killed</th>\n",
       "      <th>...</th>\n",
       "      <th>injured</th>\n",
       "      <th>injured_cum</th>\n",
       "      <th>ext_injured</th>\n",
       "      <th>ext_injured_cum</th>\n",
       "      <th>civdef_killed_cum</th>\n",
       "      <th>ext_civdef_killed_cum</th>\n",
       "      <th>med_killed_cum</th>\n",
       "      <th>ext_med_killed_cum</th>\n",
       "      <th>press_killed_cum</th>\n",
       "      <th>ext_press_killed_cum</th>\n",
       "    </tr>\n",
       "  </thead>\n",
       "  <tbody>\n",
       "    <tr>\n",
       "      <th>421</th>\n",
       "      <td>2024-12-01</td>\n",
       "      <td>mohtel</td>\n",
       "      <td>24</td>\n",
       "      <td>NaN</td>\n",
       "      <td>3865</td>\n",
       "      <td>47.0</td>\n",
       "      <td>44429.0</td>\n",
       "      <td>NaN</td>\n",
       "      <td>NaN</td>\n",
       "      <td>47</td>\n",
       "      <td>...</td>\n",
       "      <td>108.0</td>\n",
       "      <td>105250.0</td>\n",
       "      <td>108</td>\n",
       "      <td>105250</td>\n",
       "      <td>NaN</td>\n",
       "      <td>87</td>\n",
       "      <td>NaN</td>\n",
       "      <td>1055</td>\n",
       "      <td>192.0</td>\n",
       "      <td>192</td>\n",
       "    </tr>\n",
       "    <tr>\n",
       "      <th>422</th>\n",
       "      <td>2024-12-02</td>\n",
       "      <td>mohtel</td>\n",
       "      <td>24</td>\n",
       "      <td>NaN</td>\n",
       "      <td>3869</td>\n",
       "      <td>37.0</td>\n",
       "      <td>44466.0</td>\n",
       "      <td>NaN</td>\n",
       "      <td>NaN</td>\n",
       "      <td>37</td>\n",
       "      <td>...</td>\n",
       "      <td>108.0</td>\n",
       "      <td>105358.0</td>\n",
       "      <td>108</td>\n",
       "      <td>105358</td>\n",
       "      <td>NaN</td>\n",
       "      <td>87</td>\n",
       "      <td>NaN</td>\n",
       "      <td>1055</td>\n",
       "      <td>NaN</td>\n",
       "      <td>192</td>\n",
       "    </tr>\n",
       "    <tr>\n",
       "      <th>423</th>\n",
       "      <td>2024-12-03</td>\n",
       "      <td>mohtel</td>\n",
       "      <td>24</td>\n",
       "      <td>NaN</td>\n",
       "      <td>3871</td>\n",
       "      <td>36.0</td>\n",
       "      <td>44502.0</td>\n",
       "      <td>NaN</td>\n",
       "      <td>NaN</td>\n",
       "      <td>36</td>\n",
       "      <td>...</td>\n",
       "      <td>96.0</td>\n",
       "      <td>105454.0</td>\n",
       "      <td>96</td>\n",
       "      <td>105454</td>\n",
       "      <td>NaN</td>\n",
       "      <td>87</td>\n",
       "      <td>NaN</td>\n",
       "      <td>1055</td>\n",
       "      <td>NaN</td>\n",
       "      <td>192</td>\n",
       "    </tr>\n",
       "    <tr>\n",
       "      <th>424</th>\n",
       "      <td>2024-12-04</td>\n",
       "      <td>mohtel</td>\n",
       "      <td>24</td>\n",
       "      <td>NaN</td>\n",
       "      <td>3874</td>\n",
       "      <td>30.0</td>\n",
       "      <td>44532.0</td>\n",
       "      <td>NaN</td>\n",
       "      <td>NaN</td>\n",
       "      <td>30</td>\n",
       "      <td>...</td>\n",
       "      <td>84.0</td>\n",
       "      <td>105538.0</td>\n",
       "      <td>84</td>\n",
       "      <td>105538</td>\n",
       "      <td>NaN</td>\n",
       "      <td>87</td>\n",
       "      <td>NaN</td>\n",
       "      <td>1055</td>\n",
       "      <td>NaN</td>\n",
       "      <td>192</td>\n",
       "    </tr>\n",
       "    <tr>\n",
       "      <th>425</th>\n",
       "      <td>2024-12-05</td>\n",
       "      <td>mohtel</td>\n",
       "      <td>24</td>\n",
       "      <td>NaN</td>\n",
       "      <td>3879</td>\n",
       "      <td>48.0</td>\n",
       "      <td>44580.0</td>\n",
       "      <td>NaN</td>\n",
       "      <td>NaN</td>\n",
       "      <td>48</td>\n",
       "      <td>...</td>\n",
       "      <td>201.0</td>\n",
       "      <td>105739.0</td>\n",
       "      <td>201</td>\n",
       "      <td>105739</td>\n",
       "      <td>NaN</td>\n",
       "      <td>87</td>\n",
       "      <td>NaN</td>\n",
       "      <td>1055</td>\n",
       "      <td>NaN</td>\n",
       "      <td>192</td>\n",
       "    </tr>\n",
       "  </tbody>\n",
       "</table>\n",
       "<p>5 rows × 23 columns</p>\n",
       "</div>"
      ],
      "text/plain": [
       "    report_date report_source  report_period  massacres_cum  \\\n",
       "421  2024-12-01        mohtel             24            NaN   \n",
       "422  2024-12-02        mohtel             24            NaN   \n",
       "423  2024-12-03        mohtel             24            NaN   \n",
       "424  2024-12-04        mohtel             24            NaN   \n",
       "425  2024-12-05        mohtel             24            NaN   \n",
       "\n",
       "     ext_massacres_cum  killed  killed_cum  killed_children_cum  \\\n",
       "421               3865    47.0     44429.0                  NaN   \n",
       "422               3869    37.0     44466.0                  NaN   \n",
       "423               3871    36.0     44502.0                  NaN   \n",
       "424               3874    30.0     44532.0                  NaN   \n",
       "425               3879    48.0     44580.0                  NaN   \n",
       "\n",
       "     killed_women_cum  ext_killed  ...  injured  injured_cum  ext_injured  \\\n",
       "421               NaN          47  ...    108.0     105250.0          108   \n",
       "422               NaN          37  ...    108.0     105358.0          108   \n",
       "423               NaN          36  ...     96.0     105454.0           96   \n",
       "424               NaN          30  ...     84.0     105538.0           84   \n",
       "425               NaN          48  ...    201.0     105739.0          201   \n",
       "\n",
       "     ext_injured_cum  civdef_killed_cum  ext_civdef_killed_cum  \\\n",
       "421           105250                NaN                     87   \n",
       "422           105358                NaN                     87   \n",
       "423           105454                NaN                     87   \n",
       "424           105538                NaN                     87   \n",
       "425           105739                NaN                     87   \n",
       "\n",
       "     med_killed_cum  ext_med_killed_cum  press_killed_cum  \\\n",
       "421             NaN                1055             192.0   \n",
       "422             NaN                1055               NaN   \n",
       "423             NaN                1055               NaN   \n",
       "424             NaN                1055               NaN   \n",
       "425             NaN                1055               NaN   \n",
       "\n",
       "     ext_press_killed_cum  \n",
       "421                   192  \n",
       "422                   192  \n",
       "423                   192  \n",
       "424                   192  \n",
       "425                   192  \n",
       "\n",
       "[5 rows x 23 columns]"
      ]
     },
     "execution_count": 3,
     "metadata": {},
     "output_type": "execute_result"
    }
   ],
   "source": [
    "df.tail()"
   ]
  },
  {
   "cell_type": "markdown",
   "id": "f645b658",
   "metadata": {},
   "source": [
    "### Fill all NaN with 0 (because NaN values here describes 0 so we don't use mean)"
   ]
  },
  {
   "cell_type": "code",
   "execution_count": 4,
   "id": "88adadc5",
   "metadata": {},
   "outputs": [],
   "source": [
    "df = df.fillna(0)"
   ]
  },
  {
   "cell_type": "markdown",
   "id": "dcbe4ac1",
   "metadata": {},
   "source": [
    "### Ensure there's no duplicates by removing them using df.drop_duplicates() function"
   ]
  },
  {
   "cell_type": "code",
   "execution_count": 5,
   "id": "68ce7343",
   "metadata": {},
   "outputs": [],
   "source": [
    "df = df.drop_duplicates()"
   ]
  },
  {
   "cell_type": "markdown",
   "id": "dc91497a",
   "metadata": {},
   "source": [
    "### Convert report_date column to Datetime with YYYY-MM-DD format"
   ]
  },
  {
   "cell_type": "code",
   "execution_count": 6,
   "id": "edc84568",
   "metadata": {},
   "outputs": [],
   "source": [
    "df['report_date'] = pd.to_datetime(df['report_date'], format='%Y-%m-%d')"
   ]
  },
  {
   "cell_type": "markdown",
   "id": "f70d045d",
   "metadata": {},
   "source": [
    "### Add daily difference columns"
   ]
  },
  {
   "cell_type": "code",
   "execution_count": 7,
   "id": "c132f6da",
   "metadata": {},
   "outputs": [],
   "source": [
    "cum_columns = [col for col in df.columns if 'cum' in col]\n",
    "for col in cum_columns:\n",
    "    new_col = col.replace('_cum', '_daily')\n",
    "    df[new_col] = df[col].diff().fillna(0)\n",
    "    df[new_col] = df[new_col].apply(lambda x: x if x >= 0 else 0)"
   ]
  },
  {
   "cell_type": "markdown",
   "id": "ff2f6ee1",
   "metadata": {},
   "source": [
    "### Sample data (after data engineering process)"
   ]
  },
  {
   "cell_type": "code",
   "execution_count": 8,
   "id": "4058e8b6",
   "metadata": {},
   "outputs": [
    {
     "data": {
      "text/html": [
       "<div>\n",
       "<style scoped>\n",
       "    .dataframe tbody tr th:only-of-type {\n",
       "        vertical-align: middle;\n",
       "    }\n",
       "\n",
       "    .dataframe tbody tr th {\n",
       "        vertical-align: top;\n",
       "    }\n",
       "\n",
       "    .dataframe thead th {\n",
       "        text-align: right;\n",
       "    }\n",
       "</style>\n",
       "<table border=\"1\" class=\"dataframe\">\n",
       "  <thead>\n",
       "    <tr style=\"text-align: right;\">\n",
       "      <th></th>\n",
       "      <th>report_date</th>\n",
       "      <th>report_source</th>\n",
       "      <th>report_period</th>\n",
       "      <th>massacres_cum</th>\n",
       "      <th>ext_massacres_cum</th>\n",
       "      <th>killed</th>\n",
       "      <th>killed_cum</th>\n",
       "      <th>killed_children_cum</th>\n",
       "      <th>killed_women_cum</th>\n",
       "      <th>ext_killed</th>\n",
       "      <th>...</th>\n",
       "      <th>ext_killed_children_daily</th>\n",
       "      <th>ext_killed_women_daily</th>\n",
       "      <th>injured_daily</th>\n",
       "      <th>ext_injured_daily</th>\n",
       "      <th>civdef_killed_daily</th>\n",
       "      <th>ext_civdef_killed_daily</th>\n",
       "      <th>med_killed_daily</th>\n",
       "      <th>ext_med_killed_daily</th>\n",
       "      <th>press_killed_daily</th>\n",
       "      <th>ext_press_killed_daily</th>\n",
       "    </tr>\n",
       "  </thead>\n",
       "  <tbody>\n",
       "    <tr>\n",
       "      <th>0</th>\n",
       "      <td>2023-10-07</td>\n",
       "      <td>mohtel</td>\n",
       "      <td>24</td>\n",
       "      <td>0.0</td>\n",
       "      <td>0</td>\n",
       "      <td>232.0</td>\n",
       "      <td>232.0</td>\n",
       "      <td>0.0</td>\n",
       "      <td>0.0</td>\n",
       "      <td>232</td>\n",
       "      <td>...</td>\n",
       "      <td>0.0</td>\n",
       "      <td>0.0</td>\n",
       "      <td>0.0</td>\n",
       "      <td>0.0</td>\n",
       "      <td>0.0</td>\n",
       "      <td>0.0</td>\n",
       "      <td>0.0</td>\n",
       "      <td>0.0</td>\n",
       "      <td>0.0</td>\n",
       "      <td>0.0</td>\n",
       "    </tr>\n",
       "    <tr>\n",
       "      <th>1</th>\n",
       "      <td>2023-10-08</td>\n",
       "      <td>mohtel</td>\n",
       "      <td>24</td>\n",
       "      <td>0.0</td>\n",
       "      <td>0</td>\n",
       "      <td>138.0</td>\n",
       "      <td>370.0</td>\n",
       "      <td>78.0</td>\n",
       "      <td>41.0</td>\n",
       "      <td>138</td>\n",
       "      <td>...</td>\n",
       "      <td>78.0</td>\n",
       "      <td>41.0</td>\n",
       "      <td>178.0</td>\n",
       "      <td>178.0</td>\n",
       "      <td>0.0</td>\n",
       "      <td>0.0</td>\n",
       "      <td>0.0</td>\n",
       "      <td>0.0</td>\n",
       "      <td>0.0</td>\n",
       "      <td>0.0</td>\n",
       "    </tr>\n",
       "    <tr>\n",
       "      <th>2</th>\n",
       "      <td>2023-10-09</td>\n",
       "      <td>mohtel</td>\n",
       "      <td>24</td>\n",
       "      <td>0.0</td>\n",
       "      <td>8</td>\n",
       "      <td>190.0</td>\n",
       "      <td>560.0</td>\n",
       "      <td>91.0</td>\n",
       "      <td>61.0</td>\n",
       "      <td>190</td>\n",
       "      <td>...</td>\n",
       "      <td>13.0</td>\n",
       "      <td>20.0</td>\n",
       "      <td>483.0</td>\n",
       "      <td>483.0</td>\n",
       "      <td>0.0</td>\n",
       "      <td>0.0</td>\n",
       "      <td>6.0</td>\n",
       "      <td>0.0</td>\n",
       "      <td>2.0</td>\n",
       "      <td>2.0</td>\n",
       "    </tr>\n",
       "    <tr>\n",
       "      <th>3</th>\n",
       "      <td>2023-10-10</td>\n",
       "      <td>mohtel</td>\n",
       "      <td>24</td>\n",
       "      <td>0.0</td>\n",
       "      <td>8</td>\n",
       "      <td>340.0</td>\n",
       "      <td>900.0</td>\n",
       "      <td>260.0</td>\n",
       "      <td>230.0</td>\n",
       "      <td>340</td>\n",
       "      <td>...</td>\n",
       "      <td>169.0</td>\n",
       "      <td>169.0</td>\n",
       "      <td>1729.0</td>\n",
       "      <td>1729.0</td>\n",
       "      <td>0.0</td>\n",
       "      <td>0.0</td>\n",
       "      <td>0.0</td>\n",
       "      <td>0.0</td>\n",
       "      <td>4.0</td>\n",
       "      <td>4.0</td>\n",
       "    </tr>\n",
       "    <tr>\n",
       "      <th>4</th>\n",
       "      <td>2023-10-11</td>\n",
       "      <td>gmotel</td>\n",
       "      <td>24</td>\n",
       "      <td>0.0</td>\n",
       "      <td>23</td>\n",
       "      <td>200.0</td>\n",
       "      <td>1100.0</td>\n",
       "      <td>0.0</td>\n",
       "      <td>0.0</td>\n",
       "      <td>200</td>\n",
       "      <td>...</td>\n",
       "      <td>138.0</td>\n",
       "      <td>0.0</td>\n",
       "      <td>1184.0</td>\n",
       "      <td>1184.0</td>\n",
       "      <td>0.0</td>\n",
       "      <td>0.0</td>\n",
       "      <td>10.0</td>\n",
       "      <td>4.0</td>\n",
       "      <td>0.0</td>\n",
       "      <td>0.0</td>\n",
       "    </tr>\n",
       "  </tbody>\n",
       "</table>\n",
       "<p>5 rows × 39 columns</p>\n",
       "</div>"
      ],
      "text/plain": [
       "  report_date report_source  report_period  massacres_cum  ext_massacres_cum  \\\n",
       "0  2023-10-07        mohtel             24            0.0                  0   \n",
       "1  2023-10-08        mohtel             24            0.0                  0   \n",
       "2  2023-10-09        mohtel             24            0.0                  8   \n",
       "3  2023-10-10        mohtel             24            0.0                  8   \n",
       "4  2023-10-11        gmotel             24            0.0                 23   \n",
       "\n",
       "   killed  killed_cum  killed_children_cum  killed_women_cum  ext_killed  ...  \\\n",
       "0   232.0       232.0                  0.0               0.0         232  ...   \n",
       "1   138.0       370.0                 78.0              41.0         138  ...   \n",
       "2   190.0       560.0                 91.0              61.0         190  ...   \n",
       "3   340.0       900.0                260.0             230.0         340  ...   \n",
       "4   200.0      1100.0                  0.0               0.0         200  ...   \n",
       "\n",
       "   ext_killed_children_daily  ext_killed_women_daily  injured_daily  \\\n",
       "0                        0.0                     0.0            0.0   \n",
       "1                       78.0                    41.0          178.0   \n",
       "2                       13.0                    20.0          483.0   \n",
       "3                      169.0                   169.0         1729.0   \n",
       "4                      138.0                     0.0         1184.0   \n",
       "\n",
       "   ext_injured_daily  civdef_killed_daily  ext_civdef_killed_daily  \\\n",
       "0                0.0                  0.0                      0.0   \n",
       "1              178.0                  0.0                      0.0   \n",
       "2              483.0                  0.0                      0.0   \n",
       "3             1729.0                  0.0                      0.0   \n",
       "4             1184.0                  0.0                      0.0   \n",
       "\n",
       "   med_killed_daily  ext_med_killed_daily  press_killed_daily  \\\n",
       "0               0.0                   0.0                 0.0   \n",
       "1               0.0                   0.0                 0.0   \n",
       "2               6.0                   0.0                 2.0   \n",
       "3               0.0                   0.0                 4.0   \n",
       "4              10.0                   4.0                 0.0   \n",
       "\n",
       "   ext_press_killed_daily  \n",
       "0                     0.0  \n",
       "1                     0.0  \n",
       "2                     2.0  \n",
       "3                     4.0  \n",
       "4                     0.0  \n",
       "\n",
       "[5 rows x 39 columns]"
      ]
     },
     "execution_count": 8,
     "metadata": {},
     "output_type": "execute_result"
    }
   ],
   "source": [
    "df.head()"
   ]
  },
  {
   "cell_type": "code",
   "execution_count": 9,
   "id": "5bdcbd37",
   "metadata": {},
   "outputs": [
    {
     "data": {
      "text/html": [
       "<div>\n",
       "<style scoped>\n",
       "    .dataframe tbody tr th:only-of-type {\n",
       "        vertical-align: middle;\n",
       "    }\n",
       "\n",
       "    .dataframe tbody tr th {\n",
       "        vertical-align: top;\n",
       "    }\n",
       "\n",
       "    .dataframe thead th {\n",
       "        text-align: right;\n",
       "    }\n",
       "</style>\n",
       "<table border=\"1\" class=\"dataframe\">\n",
       "  <thead>\n",
       "    <tr style=\"text-align: right;\">\n",
       "      <th></th>\n",
       "      <th>report_date</th>\n",
       "      <th>report_source</th>\n",
       "      <th>report_period</th>\n",
       "      <th>massacres_cum</th>\n",
       "      <th>ext_massacres_cum</th>\n",
       "      <th>killed</th>\n",
       "      <th>killed_cum</th>\n",
       "      <th>killed_children_cum</th>\n",
       "      <th>killed_women_cum</th>\n",
       "      <th>ext_killed</th>\n",
       "      <th>...</th>\n",
       "      <th>ext_killed_children_daily</th>\n",
       "      <th>ext_killed_women_daily</th>\n",
       "      <th>injured_daily</th>\n",
       "      <th>ext_injured_daily</th>\n",
       "      <th>civdef_killed_daily</th>\n",
       "      <th>ext_civdef_killed_daily</th>\n",
       "      <th>med_killed_daily</th>\n",
       "      <th>ext_med_killed_daily</th>\n",
       "      <th>press_killed_daily</th>\n",
       "      <th>ext_press_killed_daily</th>\n",
       "    </tr>\n",
       "  </thead>\n",
       "  <tbody>\n",
       "    <tr>\n",
       "      <th>421</th>\n",
       "      <td>2024-12-01</td>\n",
       "      <td>mohtel</td>\n",
       "      <td>24</td>\n",
       "      <td>0.0</td>\n",
       "      <td>3865</td>\n",
       "      <td>47.0</td>\n",
       "      <td>44429.0</td>\n",
       "      <td>0.0</td>\n",
       "      <td>0.0</td>\n",
       "      <td>47</td>\n",
       "      <td>...</td>\n",
       "      <td>0.0</td>\n",
       "      <td>0.0</td>\n",
       "      <td>108.0</td>\n",
       "      <td>108.0</td>\n",
       "      <td>0.0</td>\n",
       "      <td>0.0</td>\n",
       "      <td>0.0</td>\n",
       "      <td>0.0</td>\n",
       "      <td>192.0</td>\n",
       "      <td>2.0</td>\n",
       "    </tr>\n",
       "    <tr>\n",
       "      <th>422</th>\n",
       "      <td>2024-12-02</td>\n",
       "      <td>mohtel</td>\n",
       "      <td>24</td>\n",
       "      <td>0.0</td>\n",
       "      <td>3869</td>\n",
       "      <td>37.0</td>\n",
       "      <td>44466.0</td>\n",
       "      <td>0.0</td>\n",
       "      <td>0.0</td>\n",
       "      <td>37</td>\n",
       "      <td>...</td>\n",
       "      <td>0.0</td>\n",
       "      <td>0.0</td>\n",
       "      <td>108.0</td>\n",
       "      <td>108.0</td>\n",
       "      <td>0.0</td>\n",
       "      <td>0.0</td>\n",
       "      <td>0.0</td>\n",
       "      <td>0.0</td>\n",
       "      <td>0.0</td>\n",
       "      <td>0.0</td>\n",
       "    </tr>\n",
       "    <tr>\n",
       "      <th>423</th>\n",
       "      <td>2024-12-03</td>\n",
       "      <td>mohtel</td>\n",
       "      <td>24</td>\n",
       "      <td>0.0</td>\n",
       "      <td>3871</td>\n",
       "      <td>36.0</td>\n",
       "      <td>44502.0</td>\n",
       "      <td>0.0</td>\n",
       "      <td>0.0</td>\n",
       "      <td>36</td>\n",
       "      <td>...</td>\n",
       "      <td>0.0</td>\n",
       "      <td>0.0</td>\n",
       "      <td>96.0</td>\n",
       "      <td>96.0</td>\n",
       "      <td>0.0</td>\n",
       "      <td>0.0</td>\n",
       "      <td>0.0</td>\n",
       "      <td>0.0</td>\n",
       "      <td>0.0</td>\n",
       "      <td>0.0</td>\n",
       "    </tr>\n",
       "    <tr>\n",
       "      <th>424</th>\n",
       "      <td>2024-12-04</td>\n",
       "      <td>mohtel</td>\n",
       "      <td>24</td>\n",
       "      <td>0.0</td>\n",
       "      <td>3874</td>\n",
       "      <td>30.0</td>\n",
       "      <td>44532.0</td>\n",
       "      <td>0.0</td>\n",
       "      <td>0.0</td>\n",
       "      <td>30</td>\n",
       "      <td>...</td>\n",
       "      <td>0.0</td>\n",
       "      <td>0.0</td>\n",
       "      <td>84.0</td>\n",
       "      <td>84.0</td>\n",
       "      <td>0.0</td>\n",
       "      <td>0.0</td>\n",
       "      <td>0.0</td>\n",
       "      <td>0.0</td>\n",
       "      <td>0.0</td>\n",
       "      <td>0.0</td>\n",
       "    </tr>\n",
       "    <tr>\n",
       "      <th>425</th>\n",
       "      <td>2024-12-05</td>\n",
       "      <td>mohtel</td>\n",
       "      <td>24</td>\n",
       "      <td>0.0</td>\n",
       "      <td>3879</td>\n",
       "      <td>48.0</td>\n",
       "      <td>44580.0</td>\n",
       "      <td>0.0</td>\n",
       "      <td>0.0</td>\n",
       "      <td>48</td>\n",
       "      <td>...</td>\n",
       "      <td>0.0</td>\n",
       "      <td>0.0</td>\n",
       "      <td>201.0</td>\n",
       "      <td>201.0</td>\n",
       "      <td>0.0</td>\n",
       "      <td>0.0</td>\n",
       "      <td>0.0</td>\n",
       "      <td>0.0</td>\n",
       "      <td>0.0</td>\n",
       "      <td>0.0</td>\n",
       "    </tr>\n",
       "  </tbody>\n",
       "</table>\n",
       "<p>5 rows × 39 columns</p>\n",
       "</div>"
      ],
      "text/plain": [
       "    report_date report_source  report_period  massacres_cum  \\\n",
       "421  2024-12-01        mohtel             24            0.0   \n",
       "422  2024-12-02        mohtel             24            0.0   \n",
       "423  2024-12-03        mohtel             24            0.0   \n",
       "424  2024-12-04        mohtel             24            0.0   \n",
       "425  2024-12-05        mohtel             24            0.0   \n",
       "\n",
       "     ext_massacres_cum  killed  killed_cum  killed_children_cum  \\\n",
       "421               3865    47.0     44429.0                  0.0   \n",
       "422               3869    37.0     44466.0                  0.0   \n",
       "423               3871    36.0     44502.0                  0.0   \n",
       "424               3874    30.0     44532.0                  0.0   \n",
       "425               3879    48.0     44580.0                  0.0   \n",
       "\n",
       "     killed_women_cum  ext_killed  ...  ext_killed_children_daily  \\\n",
       "421               0.0          47  ...                        0.0   \n",
       "422               0.0          37  ...                        0.0   \n",
       "423               0.0          36  ...                        0.0   \n",
       "424               0.0          30  ...                        0.0   \n",
       "425               0.0          48  ...                        0.0   \n",
       "\n",
       "     ext_killed_women_daily  injured_daily  ext_injured_daily  \\\n",
       "421                     0.0          108.0              108.0   \n",
       "422                     0.0          108.0              108.0   \n",
       "423                     0.0           96.0               96.0   \n",
       "424                     0.0           84.0               84.0   \n",
       "425                     0.0          201.0              201.0   \n",
       "\n",
       "     civdef_killed_daily  ext_civdef_killed_daily  med_killed_daily  \\\n",
       "421                  0.0                      0.0               0.0   \n",
       "422                  0.0                      0.0               0.0   \n",
       "423                  0.0                      0.0               0.0   \n",
       "424                  0.0                      0.0               0.0   \n",
       "425                  0.0                      0.0               0.0   \n",
       "\n",
       "     ext_med_killed_daily  press_killed_daily  ext_press_killed_daily  \n",
       "421                   0.0               192.0                     2.0  \n",
       "422                   0.0                 0.0                     0.0  \n",
       "423                   0.0                 0.0                     0.0  \n",
       "424                   0.0                 0.0                     0.0  \n",
       "425                   0.0                 0.0                     0.0  \n",
       "\n",
       "[5 rows x 39 columns]"
      ]
     },
     "execution_count": 9,
     "metadata": {},
     "output_type": "execute_result"
    }
   ],
   "source": [
    "df.tail()"
   ]
  },
  {
   "cell_type": "markdown",
   "id": "774aad59",
   "metadata": {},
   "source": [
    "### Statical description for the data"
   ]
  },
  {
   "cell_type": "code",
   "execution_count": 10,
   "id": "1663191c",
   "metadata": {},
   "outputs": [
    {
     "data": {
      "text/html": [
       "<div>\n",
       "<style scoped>\n",
       "    .dataframe tbody tr th:only-of-type {\n",
       "        vertical-align: middle;\n",
       "    }\n",
       "\n",
       "    .dataframe tbody tr th {\n",
       "        vertical-align: top;\n",
       "    }\n",
       "\n",
       "    .dataframe thead th {\n",
       "        text-align: right;\n",
       "    }\n",
       "</style>\n",
       "<table border=\"1\" class=\"dataframe\">\n",
       "  <thead>\n",
       "    <tr style=\"text-align: right;\">\n",
       "      <th></th>\n",
       "      <th>report_date</th>\n",
       "      <th>report_period</th>\n",
       "      <th>massacres_cum</th>\n",
       "      <th>ext_massacres_cum</th>\n",
       "      <th>killed</th>\n",
       "      <th>killed_cum</th>\n",
       "      <th>killed_children_cum</th>\n",
       "      <th>killed_women_cum</th>\n",
       "      <th>ext_killed</th>\n",
       "      <th>ext_killed_cum</th>\n",
       "      <th>...</th>\n",
       "      <th>ext_killed_children_daily</th>\n",
       "      <th>ext_killed_women_daily</th>\n",
       "      <th>injured_daily</th>\n",
       "      <th>ext_injured_daily</th>\n",
       "      <th>civdef_killed_daily</th>\n",
       "      <th>ext_civdef_killed_daily</th>\n",
       "      <th>med_killed_daily</th>\n",
       "      <th>ext_med_killed_daily</th>\n",
       "      <th>press_killed_daily</th>\n",
       "      <th>ext_press_killed_daily</th>\n",
       "    </tr>\n",
       "  </thead>\n",
       "  <tbody>\n",
       "    <tr>\n",
       "      <th>count</th>\n",
       "      <td>426</td>\n",
       "      <td>426.000000</td>\n",
       "      <td>426.000000</td>\n",
       "      <td>426.000000</td>\n",
       "      <td>426.000000</td>\n",
       "      <td>426.000000</td>\n",
       "      <td>426.000000</td>\n",
       "      <td>426.000000</td>\n",
       "      <td>426.000000</td>\n",
       "      <td>426.000000</td>\n",
       "      <td>...</td>\n",
       "      <td>426.000000</td>\n",
       "      <td>426.000000</td>\n",
       "      <td>426.000000</td>\n",
       "      <td>426.000000</td>\n",
       "      <td>426.00000</td>\n",
       "      <td>426.000000</td>\n",
       "      <td>426.000000</td>\n",
       "      <td>426.000000</td>\n",
       "      <td>426.000000</td>\n",
       "      <td>426.000000</td>\n",
       "    </tr>\n",
       "    <tr>\n",
       "      <th>mean</th>\n",
       "      <td>2024-05-06 11:59:59.999999744</td>\n",
       "      <td>24.000000</td>\n",
       "      <td>490.887324</td>\n",
       "      <td>2757.607981</td>\n",
       "      <td>93.955399</td>\n",
       "      <td>31100.934272</td>\n",
       "      <td>2829.798122</td>\n",
       "      <td>1897.661972</td>\n",
       "      <td>104.647887</td>\n",
       "      <td>31377.866197</td>\n",
       "      <td>...</td>\n",
       "      <td>41.269953</td>\n",
       "      <td>28.281690</td>\n",
       "      <td>976.997653</td>\n",
       "      <td>244.434272</td>\n",
       "      <td>9.84507</td>\n",
       "      <td>0.204225</td>\n",
       "      <td>89.408451</td>\n",
       "      <td>2.462441</td>\n",
       "      <td>29.213615</td>\n",
       "      <td>0.455399</td>\n",
       "    </tr>\n",
       "    <tr>\n",
       "      <th>min</th>\n",
       "      <td>2023-10-07 00:00:00</td>\n",
       "      <td>0.000000</td>\n",
       "      <td>0.000000</td>\n",
       "      <td>0.000000</td>\n",
       "      <td>0.000000</td>\n",
       "      <td>0.000000</td>\n",
       "      <td>0.000000</td>\n",
       "      <td>0.000000</td>\n",
       "      <td>0.000000</td>\n",
       "      <td>232.000000</td>\n",
       "      <td>...</td>\n",
       "      <td>0.000000</td>\n",
       "      <td>0.000000</td>\n",
       "      <td>0.000000</td>\n",
       "      <td>0.000000</td>\n",
       "      <td>0.00000</td>\n",
       "      <td>0.000000</td>\n",
       "      <td>0.000000</td>\n",
       "      <td>0.000000</td>\n",
       "      <td>0.000000</td>\n",
       "      <td>0.000000</td>\n",
       "    </tr>\n",
       "    <tr>\n",
       "      <th>25%</th>\n",
       "      <td>2024-01-21 06:00:00</td>\n",
       "      <td>24.000000</td>\n",
       "      <td>0.000000</td>\n",
       "      <td>2095.000000</td>\n",
       "      <td>34.000000</td>\n",
       "      <td>25152.500000</td>\n",
       "      <td>0.000000</td>\n",
       "      <td>0.000000</td>\n",
       "      <td>38.000000</td>\n",
       "      <td>25152.500000</td>\n",
       "      <td>...</td>\n",
       "      <td>0.000000</td>\n",
       "      <td>0.000000</td>\n",
       "      <td>84.250000</td>\n",
       "      <td>90.250000</td>\n",
       "      <td>0.00000</td>\n",
       "      <td>0.000000</td>\n",
       "      <td>0.000000</td>\n",
       "      <td>0.000000</td>\n",
       "      <td>0.000000</td>\n",
       "      <td>0.000000</td>\n",
       "    </tr>\n",
       "    <tr>\n",
       "      <th>50%</th>\n",
       "      <td>2024-05-06 12:00:00</td>\n",
       "      <td>24.000000</td>\n",
       "      <td>0.000000</td>\n",
       "      <td>3084.000000</td>\n",
       "      <td>60.000000</td>\n",
       "      <td>34762.000000</td>\n",
       "      <td>0.000000</td>\n",
       "      <td>0.000000</td>\n",
       "      <td>63.500000</td>\n",
       "      <td>34762.000000</td>\n",
       "      <td>...</td>\n",
       "      <td>0.000000</td>\n",
       "      <td>0.000000</td>\n",
       "      <td>130.500000</td>\n",
       "      <td>134.500000</td>\n",
       "      <td>0.00000</td>\n",
       "      <td>0.000000</td>\n",
       "      <td>0.000000</td>\n",
       "      <td>0.000000</td>\n",
       "      <td>0.000000</td>\n",
       "      <td>0.000000</td>\n",
       "    </tr>\n",
       "    <tr>\n",
       "      <th>75%</th>\n",
       "      <td>2024-08-20 18:00:00</td>\n",
       "      <td>24.000000</td>\n",
       "      <td>0.000000</td>\n",
       "      <td>3509.000000</td>\n",
       "      <td>113.750000</td>\n",
       "      <td>40210.500000</td>\n",
       "      <td>3423.750000</td>\n",
       "      <td>1978.000000</td>\n",
       "      <td>125.750000</td>\n",
       "      <td>40210.500000</td>\n",
       "      <td>...</td>\n",
       "      <td>38.500000</td>\n",
       "      <td>19.250000</td>\n",
       "      <td>249.750000</td>\n",
       "      <td>255.000000</td>\n",
       "      <td>0.00000</td>\n",
       "      <td>0.000000</td>\n",
       "      <td>1.000000</td>\n",
       "      <td>0.000000</td>\n",
       "      <td>0.000000</td>\n",
       "      <td>0.000000</td>\n",
       "    </tr>\n",
       "    <tr>\n",
       "      <th>max</th>\n",
       "      <td>2024-12-05 00:00:00</td>\n",
       "      <td>72.000000</td>\n",
       "      <td>3695.000000</td>\n",
       "      <td>3879.000000</td>\n",
       "      <td>756.000000</td>\n",
       "      <td>44580.000000</td>\n",
       "      <td>17581.000000</td>\n",
       "      <td>12048.000000</td>\n",
       "      <td>828.000000</td>\n",
       "      <td>44580.000000</td>\n",
       "      <td>...</td>\n",
       "      <td>524.000000</td>\n",
       "      <td>875.000000</td>\n",
       "      <td>53320.000000</td>\n",
       "      <td>3652.000000</td>\n",
       "      <td>87.00000</td>\n",
       "      <td>17.000000</td>\n",
       "      <td>1055.000000</td>\n",
       "      <td>385.000000</td>\n",
       "      <td>192.000000</td>\n",
       "      <td>19.000000</td>\n",
       "    </tr>\n",
       "    <tr>\n",
       "      <th>std</th>\n",
       "      <td>NaN</td>\n",
       "      <td>6.585546</td>\n",
       "      <td>1038.172198</td>\n",
       "      <td>973.912978</td>\n",
       "      <td>104.341838</td>\n",
       "      <td>11881.544184</td>\n",
       "      <td>5322.468626</td>\n",
       "      <td>3588.540334</td>\n",
       "      <td>114.821183</td>\n",
       "      <td>11345.054442</td>\n",
       "      <td>...</td>\n",
       "      <td>88.839259</td>\n",
       "      <td>72.216736</td>\n",
       "      <td>5389.054005</td>\n",
       "      <td>344.562163</td>\n",
       "      <td>23.62510</td>\n",
       "      <td>1.197284</td>\n",
       "      <td>223.576716</td>\n",
       "      <td>20.778490</td>\n",
       "      <td>59.034617</td>\n",
       "      <td>1.624556</td>\n",
       "    </tr>\n",
       "  </tbody>\n",
       "</table>\n",
       "<p>8 rows × 38 columns</p>\n",
       "</div>"
      ],
      "text/plain": [
       "                         report_date  report_period  massacres_cum  \\\n",
       "count                            426     426.000000     426.000000   \n",
       "mean   2024-05-06 11:59:59.999999744      24.000000     490.887324   \n",
       "min              2023-10-07 00:00:00       0.000000       0.000000   \n",
       "25%              2024-01-21 06:00:00      24.000000       0.000000   \n",
       "50%              2024-05-06 12:00:00      24.000000       0.000000   \n",
       "75%              2024-08-20 18:00:00      24.000000       0.000000   \n",
       "max              2024-12-05 00:00:00      72.000000    3695.000000   \n",
       "std                              NaN       6.585546    1038.172198   \n",
       "\n",
       "       ext_massacres_cum      killed    killed_cum  killed_children_cum  \\\n",
       "count         426.000000  426.000000    426.000000           426.000000   \n",
       "mean         2757.607981   93.955399  31100.934272          2829.798122   \n",
       "min             0.000000    0.000000      0.000000             0.000000   \n",
       "25%          2095.000000   34.000000  25152.500000             0.000000   \n",
       "50%          3084.000000   60.000000  34762.000000             0.000000   \n",
       "75%          3509.000000  113.750000  40210.500000          3423.750000   \n",
       "max          3879.000000  756.000000  44580.000000         17581.000000   \n",
       "std           973.912978  104.341838  11881.544184          5322.468626   \n",
       "\n",
       "       killed_women_cum  ext_killed  ext_killed_cum  ...  \\\n",
       "count        426.000000  426.000000      426.000000  ...   \n",
       "mean        1897.661972  104.647887    31377.866197  ...   \n",
       "min            0.000000    0.000000      232.000000  ...   \n",
       "25%            0.000000   38.000000    25152.500000  ...   \n",
       "50%            0.000000   63.500000    34762.000000  ...   \n",
       "75%         1978.000000  125.750000    40210.500000  ...   \n",
       "max        12048.000000  828.000000    44580.000000  ...   \n",
       "std         3588.540334  114.821183    11345.054442  ...   \n",
       "\n",
       "       ext_killed_children_daily  ext_killed_women_daily  injured_daily  \\\n",
       "count                 426.000000              426.000000     426.000000   \n",
       "mean                   41.269953               28.281690     976.997653   \n",
       "min                     0.000000                0.000000       0.000000   \n",
       "25%                     0.000000                0.000000      84.250000   \n",
       "50%                     0.000000                0.000000     130.500000   \n",
       "75%                    38.500000               19.250000     249.750000   \n",
       "max                   524.000000              875.000000   53320.000000   \n",
       "std                    88.839259               72.216736    5389.054005   \n",
       "\n",
       "       ext_injured_daily  civdef_killed_daily  ext_civdef_killed_daily  \\\n",
       "count         426.000000            426.00000               426.000000   \n",
       "mean          244.434272              9.84507                 0.204225   \n",
       "min             0.000000              0.00000                 0.000000   \n",
       "25%            90.250000              0.00000                 0.000000   \n",
       "50%           134.500000              0.00000                 0.000000   \n",
       "75%           255.000000              0.00000                 0.000000   \n",
       "max          3652.000000             87.00000                17.000000   \n",
       "std           344.562163             23.62510                 1.197284   \n",
       "\n",
       "       med_killed_daily  ext_med_killed_daily  press_killed_daily  \\\n",
       "count        426.000000            426.000000          426.000000   \n",
       "mean          89.408451              2.462441           29.213615   \n",
       "min            0.000000              0.000000            0.000000   \n",
       "25%            0.000000              0.000000            0.000000   \n",
       "50%            0.000000              0.000000            0.000000   \n",
       "75%            1.000000              0.000000            0.000000   \n",
       "max         1055.000000            385.000000          192.000000   \n",
       "std          223.576716             20.778490           59.034617   \n",
       "\n",
       "       ext_press_killed_daily  \n",
       "count              426.000000  \n",
       "mean                 0.455399  \n",
       "min                  0.000000  \n",
       "25%                  0.000000  \n",
       "50%                  0.000000  \n",
       "75%                  0.000000  \n",
       "max                 19.000000  \n",
       "std                  1.624556  \n",
       "\n",
       "[8 rows x 38 columns]"
      ]
     },
     "execution_count": 10,
     "metadata": {},
     "output_type": "execute_result"
    }
   ],
   "source": [
    "df.describe()"
   ]
  },
  {
   "cell_type": "markdown",
   "id": "546addcc",
   "metadata": {},
   "source": [
    "### What is the total number of people killed?"
   ]
  },
  {
   "cell_type": "code",
   "execution_count": 11,
   "id": "0a74a693",
   "metadata": {},
   "outputs": [
    {
     "name": "stdout",
     "output_type": "stream",
     "text": [
      "Total killed: 44348.0\n"
     ]
    }
   ],
   "source": [
    "total_killed = df['ext_killed_daily'].sum()\n",
    "print('Total killed: ' + str(total_killed))"
   ]
  },
  {
   "cell_type": "markdown",
   "id": "b25a1111",
   "metadata": {},
   "source": [
    "### What is the total number of women killed?"
   ]
  },
  {
   "cell_type": "code",
   "execution_count": 12,
   "id": "47e8e92b",
   "metadata": {},
   "outputs": [
    {
     "name": "stdout",
     "output_type": "stream",
     "text": [
      "Total women killed: 12048.0\n"
     ]
    }
   ],
   "source": [
    "total_women = df['ext_killed_women_daily'].sum()\n",
    "print('Total women killed: ' + str(total_women))"
   ]
  },
  {
   "cell_type": "markdown",
   "id": "3593ccee",
   "metadata": {},
   "source": [
    "### What is the total number of children killed?"
   ]
  },
  {
   "cell_type": "code",
   "execution_count": 13,
   "id": "c827fe3e",
   "metadata": {},
   "outputs": [
    {
     "name": "stdout",
     "output_type": "stream",
     "text": [
      "Total children killed: 17581.0\n"
     ]
    }
   ],
   "source": [
    "total_children = df['ext_killed_children_daily'].sum()\n",
    "print('Total children killed: ' + str(total_children))"
   ]
  },
  {
   "cell_type": "markdown",
   "id": "8c6a47a2",
   "metadata": {},
   "source": [
    "### What is the total number of men killed?"
   ]
  },
  {
   "cell_type": "code",
   "execution_count": 14,
   "id": "5b4162d6",
   "metadata": {},
   "outputs": [
    {
     "name": "stdout",
     "output_type": "stream",
     "text": [
      "Total men killed: 14719.0\n"
     ]
    }
   ],
   "source": [
    "total_men = total_killed - total_women - total_children\n",
    "print('Total men killed: ' + str(total_men))"
   ]
  },
  {
   "cell_type": "markdown",
   "id": "e0f33b48",
   "metadata": {},
   "source": [
    "### What is the total number of medical personnel killed?"
   ]
  },
  {
   "cell_type": "code",
   "execution_count": 15,
   "id": "f1df06bd",
   "metadata": {},
   "outputs": [
    {
     "name": "stdout",
     "output_type": "stream",
     "text": [
      "Total medical personnel killed: 1049.0\n"
     ]
    }
   ],
   "source": [
    "total_med = df['ext_med_killed_daily'].sum()\n",
    "print('Total medical personnel killed: ' + str(total_med))"
   ]
  },
  {
   "cell_type": "markdown",
   "id": "64449071",
   "metadata": {},
   "source": [
    "### What is the total number of journalists killed?"
   ]
  },
  {
   "cell_type": "code",
   "execution_count": 16,
   "id": "978eb345",
   "metadata": {},
   "outputs": [
    {
     "name": "stdout",
     "output_type": "stream",
     "text": [
      "Total journalists killed: 194.0\n"
     ]
    }
   ],
   "source": [
    "total_journalists = df['ext_press_killed_daily'].sum()\n",
    "print('Total journalists killed: ' + str(total_journalists))"
   ]
  },
  {
   "cell_type": "markdown",
   "id": "7bcd2ab1",
   "metadata": {},
   "source": [
    "### What is the total number of injured people?"
   ]
  },
  {
   "cell_type": "code",
   "execution_count": 17,
   "id": "ec43d429",
   "metadata": {},
   "outputs": [
    {
     "name": "stdout",
     "output_type": "stream",
     "text": [
      "Total injured: 416201.0\n"
     ]
    }
   ],
   "source": [
    "total_injured = df['injured_daily'].sum()\n",
    "print('Total injured: ' + str(total_injured))"
   ]
  },
  {
   "cell_type": "markdown",
   "id": "a74c3a34",
   "metadata": {},
   "source": [
    "### Plotting"
   ]
  },
  {
   "cell_type": "code",
   "execution_count": 18,
   "id": "41f5a773",
   "metadata": {},
   "outputs": [
    {
     "data": {
      "image/png": "[encoded data removed]",
      "text/plain": [
       "<Figure size 500x800 with 1 Axes>"
      ]
     },
     "metadata": {},
     "output_type": "display_data"
    }
   ],
   "source": [
    "totals = {\n",
    "    \"Women Killed\": total_women,\n",
    "    \"Children Killed\": total_children,\n",
    "    \"Men Killed\": total_men,\n",
    "    \"Medical Personnel Killed\": total_med,\n",
    "    \"Journalists Killed\": total_journalists\n",
    "}\n",
    "categories = list(totals.keys())\n",
    "values = list(totals.values())\n",
    "plt.figure(figsize=(5, 8))\n",
    "plt.bar(categories, values, color='#FF6666', edgecolor='black')\n",
    "plt.title('Israel-Gaza War (Gaza and West Bank victims)', fontsize=20)\n",
    "plt.ylabel('Count', fontsize=12)\n",
    "plt.xlabel('Category', fontsize=12)\n",
    "plt.xticks(rotation=45, ha='right')\n",
    "plt.tight_layout()\n",
    "plt.show()"
   ]
  },
  {
   "cell_type": "code",
   "execution_count": 19,
   "id": "56a2c3e3",
   "metadata": {},
   "outputs": [
    {
     "data": {
      "image/png": "[encoded data removed]",
      "text/plain": [
       "<Figure size 700x700 with 1 Axes>"
      ]
     },
     "metadata": {},
     "output_type": "display_data"
    }
   ],
   "source": [
    "\n",
    "totals = {\n",
    "    \"Women Killed\": total_women,\n",
    "    \"Children Killed\": total_children,\n",
    "    \"Men Killed\": total_men,\n",
    "}\n",
    "categories = list(totals.keys())\n",
    "values = list(totals.values())\n",
    "colors = ['#FF4D4D', '#FFCC00', '#3399FF', '#66CC66']\n",
    "plt.figure(figsize=(7, 7))\n",
    "plt.pie(values, labels=categories, autopct='%1.1f%%', colors=colors, startangle=90, wedgeprops={'edgecolor': 'black'})\n",
    "plt.title('Total Killed: ' + str(total_killed), fontsize=16)\n",
    "plt.tight_layout()\n",
    "plt.show()\n"
   ]
  },
  {
   "cell_type": "markdown",
   "id": "d793f1fa",
   "metadata": {},
   "source": [
    "### Percentages"
   ]
  },
  {
   "cell_type": "code",
   "execution_count": 20,
   "id": "870655f3",
   "metadata": {},
   "outputs": [
    {
     "name": "stdout",
     "output_type": "stream",
     "text": [
      "Of those who killed 27.17% were women\n",
      "Of those who killed 39.64% were children\n",
      "Of those who killed 33.19% were men\n",
      "Of those who killed 2.37% were medical personnel\n",
      "Of those who killed 0.44% were journalists\n"
     ]
    }
   ],
   "source": [
    "print(f'Of those who killed {total_women / total_killed * 100:.2f}% were women')\n",
    "print(f'Of those who killed {total_children / total_killed * 100:.2f}% were children')\n",
    "print(f'Of those who killed {total_men / total_killed * 100:.2f}% were men')\n",
    "print(f'Of those who killed {total_med / total_killed * 100:.2f}% were medical personnel')\n",
    "print(f'Of those who killed {total_journalists / total_killed * 100:.2f}% were journalists')"
   ]
  },
  {
   "cell_type": "markdown",
   "id": "051d2053",
   "metadata": {},
   "source": [
    "### Adding daily killed men column to the data"
   ]
  },
  {
   "cell_type": "code",
   "execution_count": 21,
   "id": "468da815",
   "metadata": {},
   "outputs": [],
   "source": [
    "df['men_killed_daily'] = (df['ext_killed_daily'] - df['ext_killed_women_daily'] - df['ext_killed_children_daily']).apply(lambda x: x if x >= 0 else 0)"
   ]
  },
  {
   "cell_type": "markdown",
   "id": "09ae2ee7",
   "metadata": {},
   "source": [
    "### Plotting killed people by categories"
   ]
  },
  {
   "cell_type": "code",
   "execution_count": 22,
   "id": "afea870c",
   "metadata": {},
   "outputs": [
    {
     "data": {
      "image/png": "[encoded data removed]",
      "text/plain": [
       "<Figure size 1200x800 with 7 Axes>"
      ]
     },
     "metadata": {},
     "output_type": "display_data"
    }
   ],
   "source": [
    "category_labels = {\n",
    "    'ext_killed_daily': 'Total Killed Daily',\n",
    "    'ext_killed_women_daily': 'Women Killed Daily',\n",
    "    'ext_killed_children_daily': 'Children Killed Daily',\n",
    "    'ext_med_killed_daily': 'Medical Personnel Killed Daily',\n",
    "    'ext_press_killed_daily': 'Journalists Killed Daily',\n",
    "    'injured_daily': 'Injured Daily',\n",
    "    'men_killed_daily': 'Men Killed Daily'\n",
    "}\n",
    "categories = list(category_labels.keys())\n",
    "plt.figure(figsize=(12, 8))\n",
    "for i, category in enumerate(categories, 1):\n",
    "    plt.subplot(3, 3, i)\n",
    "    plt.plot(df[category], label=category_labels[category])\n",
    "    plt.title(category_labels[category])\n",
    "    plt.xlabel('Day')\n",
    "    plt.ylabel('Count')\n",
    "    plt.legend()\n",
    "plt.tight_layout()\n",
    "plt.show()"
   ]
  },
  {
   "cell_type": "markdown",
   "id": "5b081463",
   "metadata": {},
   "source": [
    "### What is the daily average number of people killed?"
   ]
  },
  {
   "cell_type": "code",
   "execution_count": 23,
   "id": "886795f3",
   "metadata": {},
   "outputs": [
    {
     "name": "stdout",
     "output_type": "stream",
     "text": [
      "Average number of people killed daily: 104.10\n"
     ]
    }
   ],
   "source": [
    "avg_killed_daily = df['ext_killed_daily'].mean()\n",
    "print(f'Average number of people killed daily: {avg_killed_daily:.2f}')"
   ]
  },
  {
   "cell_type": "markdown",
   "id": "1a410d62",
   "metadata": {},
   "source": [
    "### What is the daily average number of women killed?"
   ]
  },
  {
   "cell_type": "code",
   "execution_count": 24,
   "id": "d887d5ad",
   "metadata": {},
   "outputs": [
    {
     "name": "stdout",
     "output_type": "stream",
     "text": [
      "Average number of women killed daily: 28.28\n"
     ]
    }
   ],
   "source": [
    "avg_women_killed = df['ext_killed_women_daily'].mean()\n",
    "print(f'Average number of women killed daily: {avg_women_killed:.2f}')"
   ]
  },
  {
   "cell_type": "markdown",
   "id": "ce4cc4ea",
   "metadata": {},
   "source": [
    "### What is the daily average number of children killed?"
   ]
  },
  {
   "cell_type": "code",
   "execution_count": 25,
   "id": "1a92f523",
   "metadata": {},
   "outputs": [
    {
     "name": "stdout",
     "output_type": "stream",
     "text": [
      "Average number of children killed daily: 41.27\n"
     ]
    }
   ],
   "source": [
    "avg_children_killed = df['ext_killed_children_daily'].mean()\n",
    "print(f'Average number of children killed daily: {avg_children_killed:.2f}')"
   ]
  },
  {
   "cell_type": "markdown",
   "id": "b65032ea",
   "metadata": {},
   "source": [
    "### What is the daily average number of medical personnel killed?"
   ]
  },
  {
   "cell_type": "code",
   "execution_count": 26,
   "id": "344079a5",
   "metadata": {},
   "outputs": [
    {
     "name": "stdout",
     "output_type": "stream",
     "text": [
      "Average Number of medical personnel killed daily: 2.46\n"
     ]
    }
   ],
   "source": [
    "avg_med_killed = df['ext_med_killed_daily'].mean()\n",
    "print(f'Average Number of medical personnel killed daily: {avg_med_killed:.2f}')"
   ]
  },
  {
   "cell_type": "markdown",
   "id": "623571aa",
   "metadata": {},
   "source": [
    "### What is the daily average number of journalists killed?"
   ]
  },
  {
   "cell_type": "code",
   "execution_count": 27,
   "id": "9e8c527c",
   "metadata": {},
   "outputs": [
    {
     "name": "stdout",
     "output_type": "stream",
     "text": [
      "Average number of journalists killed daily: 0.46\n"
     ]
    }
   ],
   "source": [
    "avg_journalists_killed = df['ext_press_killed_daily'].mean()\n",
    "print(f'Average number of journalists killed daily: {avg_journalists_killed:.2f}')"
   ]
  },
  {
   "cell_type": "markdown",
   "id": "7c43668a",
   "metadata": {},
   "source": [
    "### What is the total number of deaths for the last 10 days?"
   ]
  },
  {
   "cell_type": "code",
   "execution_count": 28,
   "id": "0123025c",
   "metadata": {},
   "outputs": [
    {
     "name": "stdout",
     "output_type": "stream",
     "text": [
      "Total killed in last 10 days: 345.0\n"
     ]
    }
   ],
   "source": [
    "last_10_days_killed = df['ext_killed_daily'].tail(10).sum()\n",
    "print(f'Total killed in last 10 days: {last_10_days_killed}')"
   ]
  },
  {
   "cell_type": "markdown",
   "id": "8c23ded3",
   "metadata": {},
   "source": [
    "### What is the highest number of people killed in a single day?"
   ]
  },
  {
   "cell_type": "code",
   "execution_count": 29,
   "id": "bf067b3f",
   "metadata": {},
   "outputs": [
    {
     "name": "stdout",
     "output_type": "stream",
     "text": [
      "Highest number of people killed in a single day: 828.0\n"
     ]
    }
   ],
   "source": [
    "max_killed_day = df['ext_killed_daily'].max()\n",
    "print(f'Highest number of people killed in a single day: {max_killed_day}')"
   ]
  },
  {
   "cell_type": "markdown",
   "id": "a97b1b92",
   "metadata": {},
   "source": [
    "### On which day was the maximum number of people killed?"
   ]
  },
  {
   "cell_type": "code",
   "execution_count": 30,
   "id": "6e3718bd",
   "metadata": {},
   "outputs": [
    {
     "name": "stdout",
     "output_type": "stream",
     "text": [
      "Maximum number of people killed on day:\n",
      "45   2023-11-21\n",
      "Name: report_date, dtype: datetime64[ns]\n"
     ]
    }
   ],
   "source": [
    "date_of_max_killed_day = df.loc[df['ext_killed_daily'] == max_killed_day, 'report_date']\n",
    "print(f'Maximum number of people killed on day:\\n{date_of_max_killed_day}')"
   ]
  },
  {
   "cell_type": "markdown",
   "id": "6a109600",
   "metadata": {},
   "source": [
    "### What is the trend of deaths over time (plot the number of people killed daily)?"
   ]
  },
  {
   "cell_type": "code",
   "execution_count": 31,
   "id": "d23ec535",
   "metadata": {},
   "outputs": [
    {
     "data": {
      "image/png": "[encoded data removed]",
      "text/plain": [
       "<Figure size 640x480 with 1 Axes>"
      ]
     },
     "metadata": {},
     "output_type": "display_data"
    }
   ],
   "source": [
    "df['ext_killed_daily'].plot(title=\"Trend of People Killed Daily\")\n",
    "plt.xlabel('Day')\n",
    "plt.ylabel('Killed')\n",
    "plt.show()"
   ]
  },
  {
   "cell_type": "markdown",
   "id": "e8d549a4",
   "metadata": {},
   "source": [
    "### What is the correlation between women killed and total killed?"
   ]
  },
  {
   "cell_type": "code",
   "execution_count": 32,
   "id": "322e9232",
   "metadata": {},
   "outputs": [
    {
     "name": "stdout",
     "output_type": "stream",
     "text": [
      "Correlation between women killed and total killed: 0.47\n"
     ]
    }
   ],
   "source": [
    "correlation_women_killed = df['ext_killed_women_daily'].corr(df['ext_killed_daily'])\n",
    "print(f'Correlation between women killed and total killed: {correlation_women_killed:.2f}')"
   ]
  },
  {
   "cell_type": "markdown",
   "id": "443128a6",
   "metadata": {},
   "source": [
    "### What is the correlation between children killed and total killed?"
   ]
  },
  {
   "cell_type": "code",
   "execution_count": 33,
   "id": "67d7e210",
   "metadata": {},
   "outputs": [
    {
     "name": "stdout",
     "output_type": "stream",
     "text": [
      "Correlation between children killed and total killed: 0.55\n"
     ]
    }
   ],
   "source": [
    "correlation_children_killed = df['ext_killed_children_daily'].corr(df['ext_killed_daily'])\n",
    "print(f'Correlation between children killed and total killed: {correlation_children_killed:.2f}')"
   ]
  },
  {
   "cell_type": "markdown",
   "id": "0a46ae25",
   "metadata": {},
   "source": [
    "### What is the average number of injured people per day?"
   ]
  },
  {
   "cell_type": "code",
   "execution_count": 34,
   "id": "b5f45580",
   "metadata": {},
   "outputs": [
    {
     "name": "stdout",
     "output_type": "stream",
     "text": [
      "Average number of injured people daily: 977.00\n"
     ]
    }
   ],
   "source": [
    "avg_injured_daily = df['injured_daily'].mean()\n",
    "print(f'Average number of injured people daily: {avg_injured_daily:.2f}')"
   ]
  },
  {
   "cell_type": "markdown",
   "id": "b2793ba0",
   "metadata": {},
   "source": [
    "### What is the highest number of injuries in a single day?"
   ]
  },
  {
   "cell_type": "code",
   "execution_count": 35,
   "id": "31820cfc",
   "metadata": {},
   "outputs": [
    {
     "name": "stdout",
     "output_type": "stream",
     "text": [
      "Highest number of injuries in a single day: 3652.0\n"
     ]
    }
   ],
   "source": [
    "max_injured_day = df['ext_injured_daily'].max()\n",
    "print(f'Highest number of injuries in a single day: {max_injured_day}')"
   ]
  },
  {
   "cell_type": "markdown",
   "id": "77f010da",
   "metadata": {},
   "source": [
    "### Which day had the most injuries?"
   ]
  },
  {
   "cell_type": "code",
   "execution_count": 36,
   "id": "d19d216b",
   "metadata": {},
   "outputs": [
    {
     "name": "stdout",
     "output_type": "stream",
     "text": [
      "Maximum number of people injured on day:\n",
      "56   2023-12-02\n",
      "Name: report_date, dtype: datetime64[ns]\n"
     ]
    }
   ],
   "source": [
    "date_of_max_injured_day = df.loc[df['ext_injured_daily'] == max_injured_day, 'report_date']\n",
    "print(f'Maximum number of people injured on day:\\n{date_of_max_injured_day}')"
   ]
  }
 ],
 "metadata": {
  "kernelspec": {
   "display_name": "Python 3",
   "language": "python",
   "name": "python3"
  },
  "language_info": {
   "codemirror_mode": {
    "name": "ipython",
    "version": 3
   },
   "file_extension": ".py",
   "mimetype": "text/x-python",
   "name": "python",
   "nbconvert_exporter": "python",
   "pygments_lexer": "ipython3",
   "version": "3.11.5"
  }
 },
 "nbformat": 4,
 "nbformat_minor": 5
}
